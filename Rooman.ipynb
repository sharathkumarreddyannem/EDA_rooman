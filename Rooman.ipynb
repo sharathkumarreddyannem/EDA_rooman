{
 "cells": [
  {
   "cell_type": "code",
   "execution_count": 1,
   "id": "94b3f24d",
   "metadata": {},
   "outputs": [
    {
     "name": "stdout",
     "output_type": "stream",
     "text": [
      "Requirement already satisfied: numpy in c:\\users\\p.likitha\\anaconda3\\lib\\site-packages (1.23.5)\n",
      "Note: you may need to restart the kernel to use updated packages.\n"
     ]
    }
   ],
   "source": [
    "pip install numpy\n"
   ]
  },
  {
   "cell_type": "code",
   "execution_count": 3,
   "id": "1f522739",
   "metadata": {},
   "outputs": [
    {
     "name": "stdout",
     "output_type": "stream",
     "text": [
      "<class 'numpy.ndarray'>\n"
     ]
    }
   ],
   "source": [
    "import numpy as np\n",
    "a=np.array([10,20,30])\n",
    "print(type(a))"
   ]
  },
  {
   "cell_type": "code",
   "execution_count": 11,
   "id": "66a5896d",
   "metadata": {},
   "outputs": [
    {
     "name": "stdout",
     "output_type": "stream",
     "text": [
      "<class 'numpy.ndarray'>\n",
      "2\n"
     ]
    }
   ],
   "source": [
    "a=np.array([[10,20,30],[50,55,40]])\n",
    "print(type(a))\n",
    "print(a.ndim)"
   ]
  },
  {
   "cell_type": "code",
   "execution_count": 8,
   "id": "c2db3bd9",
   "metadata": {},
   "outputs": [],
   "source": [
    "a=[10,20,52]\n",
    "b=np.array(a)"
   ]
  },
  {
   "cell_type": "code",
   "execution_count": 12,
   "id": "d99d7af9",
   "metadata": {},
   "outputs": [
    {
     "name": "stdout",
     "output_type": "stream",
     "text": [
      "[10 20 30 40 50]\n"
     ]
    }
   ],
   "source": [
    "details=[10,20,30,40,50]\n",
    "sales=np.array(details)\n",
    "print(sales)"
   ]
  },
  {
   "cell_type": "code",
   "execution_count": 17,
   "id": "490f8534",
   "metadata": {},
   "outputs": [
    {
     "name": "stdout",
     "output_type": "stream",
     "text": [
      "10\n",
      "[10 20  5 24 52]\n",
      "[10 20]\n"
     ]
    }
   ],
   "source": [
    "a=[10,20,5,24,52]\n",
    "arr=np.array(a)\n",
    "print(arr[0])\n",
    "print(arr[: :])\n",
    "print(arr[:2])"
   ]
  },
  {
   "cell_type": "code",
   "execution_count": 27,
   "id": "e63b127c",
   "metadata": {},
   "outputs": [
    {
     "name": "stdout",
     "output_type": "stream",
     "text": [
      "2\n",
      "<class 'numpy.ndarray'>\n",
      "4\n"
     ]
    }
   ],
   "source": [
    "a=[[5,8,9,8],\n",
    "   [2,3,4,6]]\n",
    "arr=np.array(a)\n",
    "print(arr.ndim)\n",
    "print(type(arr))\n",
    "print(arr[1][2])"
   ]
  },
  {
   "cell_type": "code",
   "execution_count": 22,
   "id": "c063b33c",
   "metadata": {},
   "outputs": [
    {
     "name": "stdout",
     "output_type": "stream",
     "text": [
      "[0. 0. 0. 0. 0.]\n"
     ]
    }
   ],
   "source": [
    "arr=np.zeros(5)\n",
    "print(arr)"
   ]
  },
  {
   "cell_type": "code",
   "execution_count": 23,
   "id": "99fcb506",
   "metadata": {},
   "outputs": [
    {
     "name": "stdout",
     "output_type": "stream",
     "text": [
      "[1. 1. 1. 1. 1.]\n"
     ]
    }
   ],
   "source": [
    "arr=np.ones(5)\n",
    "print(arr)"
   ]
  },
  {
   "cell_type": "code",
   "execution_count": 28,
   "id": "83a2307a",
   "metadata": {},
   "outputs": [
    {
     "name": "stdout",
     "output_type": "stream",
     "text": [
      "[10 20 30 40 50]\n",
      "\n",
      "[10 20 30 40 50]\n"
     ]
    }
   ],
   "source": [
    "details=[10,20,30,40,50]\n",
    "sales=np.array(details)\n",
    "print(sales)\n",
    "print()\n",
    "print(sales.T)"
   ]
  },
  {
   "cell_type": "code",
   "execution_count": 2,
   "id": "97107392",
   "metadata": {},
   "outputs": [
    {
     "name": "stdout",
     "output_type": "stream",
     "text": [
      "[10 20 30 40 50]\n",
      "50\n",
      "10\n",
      "150\n"
     ]
    }
   ],
   "source": [
    "import numpy as np\n",
    "details=[10,20,30,40,50]\n",
    "sales=np.array(details)\n",
    "print(sales)\n",
    "print(max(sales))\n",
    "print(min(sales))\n",
    "print(sum(sales))\n"
   ]
  },
  {
   "cell_type": "code",
   "execution_count": 3,
   "id": "df11c2bb",
   "metadata": {},
   "outputs": [
    {
     "name": "stdout",
     "output_type": "stream",
     "text": [
      "[[45 54 66]\n",
      " [96 85 74]]\n",
      "(2, 3)\n",
      "[[45 96]\n",
      " [54 85]\n",
      " [66 74]]\n"
     ]
    }
   ],
   "source": [
    "a=np.array([[45,54,66],[96,85,74]])\n",
    "arr=np.array(a)\n",
    "print(a)\n",
    "print(arr.shape)\n",
    "print(arr.T)\n"
   ]
  },
  {
   "cell_type": "code",
   "execution_count": 4,
   "id": "d7a88259",
   "metadata": {},
   "outputs": [
    {
     "name": "stdout",
     "output_type": "stream",
     "text": [
      "[[45 54]\n",
      " [66 96]\n",
      " [85 74]]\n"
     ]
    }
   ],
   "source": [
    "print(arr.reshape(3,2))"
   ]
  },
  {
   "cell_type": "code",
   "execution_count": 5,
   "id": "2d659927",
   "metadata": {},
   "outputs": [
    {
     "name": "stdout",
     "output_type": "stream",
     "text": [
      "[[45 54 66 96 85 74]]\n",
      "2\n"
     ]
    }
   ],
   "source": [
    "print(arr.reshape(1,6))\n",
    "print(arr.ndim)"
   ]
  },
  {
   "cell_type": "code",
   "execution_count": 6,
   "id": "1b7a196c",
   "metadata": {},
   "outputs": [
    {
     "name": "stdout",
     "output_type": "stream",
     "text": [
      "5\n"
     ]
    }
   ],
   "source": [
    "a=np.array([[45,54,0],[96,85,74]])\n",
    "arr=np.array(a)\n",
    "print(np.count_nonzero(arr))"
   ]
  },
  {
   "cell_type": "code",
   "execution_count": 7,
   "id": "6182007e",
   "metadata": {},
   "outputs": [
    {
     "name": "stdout",
     "output_type": "stream",
     "text": [
      "[[ 0 45 54]\n",
      " [74 85 96]]\n"
     ]
    }
   ],
   "source": [
    "print(np.sort(arr))"
   ]
  },
  {
   "cell_type": "code",
   "execution_count": 8,
   "id": "4fbbdd69",
   "metadata": {},
   "outputs": [
    {
     "name": "stdout",
     "output_type": "stream",
     "text": [
      "[[45 54  0]\n",
      " [96 85 74]]\n"
     ]
    }
   ],
   "source": [
    "print(np.sort(arr,axis=0))"
   ]
  },
  {
   "cell_type": "code",
   "execution_count": 10,
   "id": "a5c7e67a",
   "metadata": {},
   "outputs": [
    {
     "name": "stdout",
     "output_type": "stream",
     "text": [
      "\n",
      "Zeros Array:\n",
      " [[0. 0. 0.]\n",
      " [0. 0. 0.]\n",
      " [0. 0. 0.]]\n"
     ]
    }
   ],
   "source": [
    "zeros=np.zeros((3,3))\n",
    "print(\"\\nZeros Array:\\n\",zeros)"
   ]
  },
  {
   "cell_type": "code",
   "execution_count": 12,
   "id": "28d791ef",
   "metadata": {},
   "outputs": [
    {
     "name": "stdout",
     "output_type": "stream",
     "text": [
      "\n",
      "Ones Array:\n",
      " [[1. 1. 1.]\n",
      " [1. 1. 1.]]\n"
     ]
    }
   ],
   "source": [
    "ones=np.ones((2,3))\n",
    "print(\"\\nOnes Array:\\n\",ones)"
   ]
  },
  {
   "cell_type": "code",
   "execution_count": 43,
   "id": "3d0e64c2",
   "metadata": {},
   "outputs": [
    {
     "name": "stdout",
     "output_type": "stream",
     "text": [
      "\n",
      "Empty Array:\n",
      " [[1. 1. 1.]\n",
      " [1. 1. 1.]]\n"
     ]
    }
   ],
   "source": [
    "import numpy as np\n",
    "empt_arr=np.empty((2,3))\n",
    "print(\"\\nEmpty Array:\\n\",empt_arr)"
   ]
  },
  {
   "cell_type": "code",
   "execution_count": null,
   "id": "4e1546c5",
   "metadata": {},
   "outputs": [],
   "source": [
    "arr_range=np.range((0,10,4))\n",
    "print(\"\\nArray With range:\\n\",arr_range)"
   ]
  },
  {
   "cell_type": "markdown",
   "id": "e9df3eec",
   "metadata": {},
   "source": [
    "taking multiple values as input,and returns the output in a single value =====================aggregrate functions\n",
    "aggregate functions are:\n",
    "    min\n",
    "    max\n",
    "    sum\n",
    "    mean\n",
    "    standard deviation\n",
    "    product\n",
    "    \n",
    "   CONCATINATION:Adding of 2 values\n",
    "   \n",
    "   "
   ]
  },
  {
   "cell_type": "code",
   "execution_count": 37,
   "id": "7dcf1785",
   "metadata": {},
   "outputs": [
    {
     "name": "stdout",
     "output_type": "stream",
     "text": [
      "[ 8 12 16 20 24 28 32 36 40 44 48]\n"
     ]
    }
   ],
   "source": [
    "import numpy as np\n",
    "numbers = np.linspace(5, 50, 24, dtype=int).reshape(4,-1)\n",
    "mask = numbers % 4 == 0\n",
    "filtered_value7s = numbers[mask]\n",
    "print(filtered_values)"
   ]
  },
  {
   "cell_type": "code",
   "execution_count": 2,
   "id": "84a0509c",
   "metadata": {},
   "outputs": [
    {
     "data": {
      "text/plain": [
       "29.99999999999999"
      ]
     },
     "execution_count": 2,
     "metadata": {},
     "output_type": "execute_result"
    }
   ],
   "source": [
    "import numpy as np\n",
    "x=[[2,3,4],\n",
    "   [5,6,7],\n",
    "   [8,9,0]] \n",
    "np.linalg.det(x)"
   ]
  },
  {
   "cell_type": "code",
   "execution_count": 3,
   "id": "8998b205",
   "metadata": {},
   "outputs": [
    {
     "name": "stdout",
     "output_type": "stream",
     "text": [
      "[2 6 0]\n",
      "8\n"
     ]
    }
   ],
   "source": [
    "matrix=np.array([[2,3,4],\n",
    "                 [5,6,7],\n",
    "                 [8,9,0]])\n",
    "d=np.diagonal(matrix)\n",
    "print(d)\n",
    "print(np.trace(matrix))"
   ]
  },
  {
   "cell_type": "code",
   "execution_count": 4,
   "id": "2d29b8bd",
   "metadata": {},
   "outputs": [
    {
     "name": "stdout",
     "output_type": "stream",
     "text": [
      "[[ 0.6 -0.7]\n",
      " [-0.2  0.4]]\n",
      "[[1.0000000e+00 8.8817842e-16]\n",
      " [0.0000000e+00 1.0000000e+00]]\n",
      "[[1. 0.]\n",
      " [0. 1.]]\n"
     ]
    }
   ],
   "source": [
    "A=np.array([[4,7],[2,6]])\n",
    "A_inv=np.linalg.inv(A)\n",
    "print(A_inv)\n",
    "print(A_inv @ A)\n",
    "print(A @ A_inv)"
   ]
  },
  {
   "cell_type": "code",
   "execution_count": 5,
   "id": "4805d5ec",
   "metadata": {},
   "outputs": [
    {
     "name": "stdout",
     "output_type": "stream",
     "text": [
      "Eigenvalues: [1.12701665 8.87298335]\n",
      "EigenVectors [[-0.92511345 -0.82071729]\n",
      " [ 0.37969079 -0.57133452]]\n"
     ]
    }
   ],
   "source": [
    "A=np.array([[4,7],[2,6]])\n",
    "eig_values, eig_vectors = np.linalg.eig(A)\n",
    "print('Eigenvalues:',eig_values)\n",
    "print(\"EigenVectors\",eig_vectors)"
   ]
  },
  {
   "cell_type": "code",
   "execution_count": 6,
   "id": "6ee05585",
   "metadata": {},
   "outputs": [
    {
     "name": "stdout",
     "output_type": "stream",
     "text": [
      "solution: [-8.5  6. ]\n"
     ]
    }
   ],
   "source": [
    "A=np.array([[4,7],[2,6]])\n",
    "B=np.array([8,19])\n",
    "solution=np.linalg.solve(A,B)\n",
    "print('solution:',solution)"
   ]
  },
  {
   "cell_type": "code",
   "execution_count": 7,
   "id": "a94bf250",
   "metadata": {},
   "outputs": [
    {
     "name": "stdout",
     "output_type": "stream",
     "text": [
      "5.0\n"
     ]
    }
   ],
   "source": [
    "v=np.array([3, 4])\n",
    "norm_v = np.linalg.norm(v)\n",
    "print(norm_v)"
   ]
  },
  {
   "cell_type": "code",
   "execution_count": 12,
   "id": "6c488b7e",
   "metadata": {},
   "outputs": [],
   "source": [
    "import pandas as pd"
   ]
  },
  {
   "cell_type": "code",
   "execution_count": 14,
   "id": "0f83a001",
   "metadata": {},
   "outputs": [
    {
     "name": "stdout",
     "output_type": "stream",
     "text": [
      "0    10\n",
      "1    15\n",
      "2    18\n",
      "3    22\n",
      "dtype: int32\n"
     ]
    }
   ],
   "source": [
    "import numpy as np\n",
    "arr=np.array([10,15,18,22])\n",
    "s=pd.Series(arr)\n",
    "print(s)"
   ]
  },
  {
   "cell_type": "code",
   "execution_count": 15,
   "id": "73168399",
   "metadata": {},
   "outputs": [
    {
     "name": "stdout",
     "output_type": "stream",
     "text": [
      "first     a\n",
      "second    b\n",
      "third     c\n",
      "fourth    d\n",
      "dtype: object\n"
     ]
    }
   ],
   "source": [
    "arr=np.array(['a','b','c','d'])\n",
    "s=pd.Series(arr,\n",
    "           index=['first','second','third','fourth'])\n",
    "print(s)"
   ]
  },
  {
   "cell_type": "code",
   "execution_count": 22,
   "id": "a30b27d1",
   "metadata": {},
   "outputs": [
    {
     "name": "stdout",
     "output_type": "stream",
     "text": [
      "0    50\n",
      "1    50\n",
      "2    50\n",
      "3    50\n",
      "4    50\n",
      "dtype: int64\n"
     ]
    }
   ],
   "source": [
    "s=pd.Series(50, index =[0,1,2,3,4])\n",
    "print(s)"
   ]
  },
  {
   "cell_type": "code",
   "execution_count": 27,
   "id": "c9d5eded",
   "metadata": {},
   "outputs": [
    {
     "name": "stdout",
     "output_type": "stream",
     "text": [
      "Name    hardik\n",
      "IPL         MI\n",
      "runs      1500\n",
      "dtype: object\n"
     ]
    }
   ],
   "source": [
    "d={'Name':\"hardik\",\"IPL\":\"MI\",\"runs\":1500}\n",
    "s=pd.Series(d)\n",
    "print(s)"
   ]
  },
  {
   "cell_type": "code",
   "execution_count": null,
   "id": "6bfe9275",
   "metadata": {},
   "outputs": [],
   "source": [
    "#MATHEMATICAL OPERATIONS IN SERIES"
   ]
  },
  {
   "cell_type": "code",
   "execution_count": 28,
   "id": "cdb29b22",
   "metadata": {},
   "outputs": [
    {
     "name": "stdout",
     "output_type": "stream",
     "text": [
      "0     2\n",
      "1     4\n",
      "2     6\n",
      "3     8\n",
      "4    10\n",
      "dtype: int64\n"
     ]
    }
   ],
   "source": [
    "s=pd.Series([1,2,3,4,5])\n",
    "print(s*2)"
   ]
  },
  {
   "cell_type": "code",
   "execution_count": 29,
   "id": "e888ec49",
   "metadata": {},
   "outputs": [
    {
     "name": "stdout",
     "output_type": "stream",
     "text": [
      "0     1\n",
      "1     4\n",
      "2     9\n",
      "3    16\n",
      "4    25\n",
      "dtype: int64\n"
     ]
    }
   ],
   "source": [
    "print(s**2)"
   ]
  },
  {
   "cell_type": "code",
   "execution_count": 30,
   "id": "eee352d8",
   "metadata": {},
   "outputs": [
    {
     "name": "stdout",
     "output_type": "stream",
     "text": [
      "2    3\n",
      "3    4\n",
      "4    5\n",
      "dtype: int64\n"
     ]
    }
   ],
   "source": [
    " print(s[s>2])"
   ]
  },
  {
   "cell_type": "code",
   "execution_count": 33,
   "id": "c0322cae",
   "metadata": {},
   "outputs": [
    {
     "name": "stdout",
     "output_type": "stream",
     "text": [
      "a    17\n",
      "b    27\n",
      "c    17\n",
      "d    79\n",
      "e    90\n",
      "dtype: int64\n",
      "a    14\n",
      "b    60\n",
      "c    99\n",
      "d    51\n",
      "e    30\n",
      "dtype: int64\n",
      "a     29\n",
      "b     83\n",
      "c    110\n",
      "d    122\n",
      "e    110\n",
      "dtype: int64\n",
      "a     29\n",
      "b     83\n",
      "c    110\n",
      "d    122\n",
      "e    110\n",
      "dtype: int64\n"
     ]
    }
   ],
   "source": [
    "s1=pd.Series([1,2,3,4,5], index=[['a','b','c','d','e']])\n",
    "s2=pd.Series([16,25,14,75,85], index=[['a','b','c','d','e']])\n",
    "s3=pd.Series([13,58,96,47,25], index=[['a','b','c','d','e']])\n",
    "print(s1+s2)\n",
    "print(s1+s3)\n",
    "print(s2+s3)\n",
    "print(s2.add(s3,fill_value=0))"
   ]
  },
  {
   "cell_type": "code",
   "execution_count": 44,
   "id": "43b48596",
   "metadata": {},
   "outputs": [
    {
     "name": "stdout",
     "output_type": "stream",
     "text": [
      "0    45\n",
      "1    54\n",
      "2    58\n",
      "3    96\n",
      "4    85\n",
      "5    74\n",
      "dtype: int32\n",
      "0    45\n",
      "1    54\n",
      "2    58\n",
      "dtype: int32\n",
      "4    85\n",
      "5    74\n",
      "dtype: int32\n"
     ]
    }
   ],
   "source": [
    "import pandas as pd\n",
    "import numpy as np\n",
    "arr=np.array([45,54,58,96,85,74])\n",
    "s=pd.Series(arr)\n",
    "print(s)\n",
    "print(s.head(3))\n",
    "print(s.tail(2))"
   ]
  },
  {
   "cell_type": "code",
   "execution_count": 37,
   "id": "6d7354e3",
   "metadata": {},
   "outputs": [
    {
     "name": "stdout",
     "output_type": "stream",
     "text": [
      "0    45\n",
      "1    54\n",
      "2    58\n",
      "3    96\n",
      "4    85\n",
      "5    74\n",
      "dtype: int32\n",
      "0    45\n",
      "1    54\n",
      "2    58\n",
      "dtype: int32\n",
      "3    96\n",
      "4    85\n",
      "dtype: int32\n"
     ]
    },
    {
     "data": {
      "text/plain": [
       "2    58\n",
       "3    96\n",
       "dtype: int32"
      ]
     },
     "execution_count": 37,
     "metadata": {},
     "output_type": "execute_result"
    }
   ],
   "source": [
    "import pandas as pd\n",
    "import numpy as np\n",
    "arr=np.array([45,54,58,96,85,74])\n",
    "s=pd.Series(arr)\n",
    "print(s)\n",
    "print(s.loc[:2])   #loc is used for the location based upon the value.........nd it is excluded\n",
    "print(s.loc[3:4])\n",
    "s.loc[2:3]"
   ]
  },
  {
   "cell_type": "code",
   "execution_count": 40,
   "id": "72f80a86",
   "metadata": {},
   "outputs": [
    {
     "name": "stdout",
     "output_type": "stream",
     "text": [
      "0    45\n",
      "1    54\n",
      "dtype: int32\n",
      "3    96\n",
      "dtype: int32\n"
     ]
    },
    {
     "data": {
      "text/plain": [
       "2    58\n",
       "dtype: int32"
      ]
     },
     "execution_count": 40,
     "metadata": {},
     "output_type": "execute_result"
    }
   ],
   "source": [
    "import pandas as pd\n",
    "import numpy as np\n",
    "arr=np.array([45,54,58,96,85,74])\n",
    "s=pd.Series(arr)\n",
    "print(s.iloc[:2])   #loc is used for the location based upon the value.........nd it is excluded\n",
    "print(s.iloc[3:4])\n",
    "s.iloc[2:3]"
   ]
  },
  {
   "cell_type": "code",
   "execution_count": 41,
   "id": "120a2399",
   "metadata": {},
   "outputs": [
    {
     "name": "stdout",
     "output_type": "stream",
     "text": [
      "0    45\n",
      "1    54\n",
      "2    58\n",
      "3    96\n",
      "4    85\n",
      "5    74\n",
      "dtype: int32\n",
      "RangeIndex(start=0, stop=6, step=1)\n"
     ]
    }
   ],
   "source": [
    "import pandas as pd\n",
    "import numpy as np\n",
    "arr=np.array([45,54,58,96,85,74])\n",
    "s=pd.Series(arr)\n",
    "print(s)\n",
    "print(s.index)"
   ]
  },
  {
   "cell_type": "code",
   "execution_count": null,
   "id": "adad6307",
   "metadata": {},
   "outputs": [],
   "source": [
    "#*****************DATA FRAME************************"
   ]
  }
 ],
 "metadata": {
  "kernelspec": {
   "display_name": "Python 3 (ipykernel)",
   "language": "python",
   "name": "python3"
  },
  "language_info": {
   "codemirror_mode": {
    "name": "ipython",
    "version": 3
   },
   "file_extension": ".py",
   "mimetype": "text/x-python",
   "name": "python",
   "nbconvert_exporter": "python",
   "pygments_lexer": "ipython3",
   "version": "3.10.9"
  }
 },
 "nbformat": 4,
 "nbformat_minor": 5
}
